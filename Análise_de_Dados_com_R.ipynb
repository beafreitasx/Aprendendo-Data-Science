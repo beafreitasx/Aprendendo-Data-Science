{
  "nbformat": 4,
  "nbformat_minor": 0,
  "metadata": {
    "colab": {
      "name": "Análise de Dados com R.ipynb",
      "provenance": [],
      "authorship_tag": "ABX9TyPc+0sEmDKFv3eeF/FhpLCo",
      "include_colab_link": true
    },
    "kernelspec": {
      "name": "ir",
      "display_name": "R"
    }
  },
  "cells": [
    {
      "cell_type": "markdown",
      "metadata": {
        "id": "view-in-github",
        "colab_type": "text"
      },
      "source": [
        "<a href=\"https://colab.research.google.com/github/beafreitasx/Aprendendo-Data-Science/blob/master/An%C3%A1lise_de_Dados_com_R.ipynb\" target=\"_parent\"><img src=\"https://colab.research.google.com/assets/colab-badge.svg\" alt=\"Open In Colab\"/></a>"
      ]
    },
    {
      "cell_type": "markdown",
      "metadata": {
        "id": "KLA_2oTUlHN0",
        "colab_type": "text"
      },
      "source": [
        "# Módulo 2"
      ]
    },
    {
      "cell_type": "markdown",
      "metadata": {
        "id": "IuReHW5f41S1",
        "colab_type": "text"
      },
      "source": [
        "##RSTUDIO##"
      ]
    },
    {
      "cell_type": "markdown",
      "metadata": {
        "id": "ZzAZGyyqlRLu",
        "colab_type": "text"
      },
      "source": [
        "comentando o código"
      ]
    },
    {
      "cell_type": "code",
      "metadata": {
        "id": "gY7YOMQfkgIa",
        "colab_type": "code",
        "colab": {}
      },
      "source": [
        "#isto é um comentário"
      ],
      "execution_count": 30,
      "outputs": []
    },
    {
      "cell_type": "markdown",
      "metadata": {
        "id": "Fh7nUQarlfDn",
        "colab_type": "text"
      },
      "source": [
        "Comando para saber a função da documentação"
      ]
    },
    {
      "cell_type": "code",
      "metadata": {
        "id": "2MwJlR7qlh4y",
        "colab_type": "code",
        "colab": {}
      },
      "source": [
        "?print"
      ],
      "execution_count": 29,
      "outputs": []
    },
    {
      "cell_type": "markdown",
      "metadata": {
        "id": "D1A_zVnZlzHA",
        "colab_type": "text"
      },
      "source": [
        "Instalando pacotes"
      ]
    },
    {
      "cell_type": "code",
      "metadata": {
        "id": "mV4Wxf20l2R_",
        "colab_type": "code",
        "colab": {
          "base_uri": "https://localhost:8080/",
          "height": 68
        },
        "outputId": "d066b19c-a85c-4a49-d3ca-d9e1cc4c9ec0"
      },
      "source": [
        "#instalar\n",
        "install.packages(\"ggplot2\")\n",
        "#carregar pacote\n",
        "library(ggplot2)"
      ],
      "execution_count": 31,
      "outputs": [
        {
          "output_type": "stream",
          "text": [
            "Installing package into ‘/usr/local/lib/R/site-library’\n",
            "(as ‘lib’ is unspecified)\n",
            "\n"
          ],
          "name": "stderr"
        }
      ]
    },
    {
      "cell_type": "markdown",
      "metadata": {
        "id": "Atk3UJChmmjg",
        "colab_type": "text"
      },
      "source": [
        " Estrutura de dados: vetor (Armazena um conjunto de valores ordenados chamados de elementos. Todos os elementos de um vetor devem ser do mesmo tipo)."
      ]
    },
    {
      "cell_type": "code",
      "metadata": {
        "id": "RNwcXKgxnfdZ",
        "colab_type": "code",
        "colab": {
          "base_uri": "https://localhost:8080/",
          "height": 119
        },
        "outputId": "936a78cb-d9b9-449f-f98b-e82d0575c05d"
      },
      "source": [
        "#vetores\n",
        "cidade <- c(\"Brasília\",\n",
        "            \"São Paulo\",\n",
        "            \"Rio de Janeiro\",\n",
        "            \"Porto Alegre\")\n",
        "\n",
        "cidade\n",
        "\n",
        "temperatura <- c(32, 22, 35, 17)\n",
        "\n",
        "região <- c(1,2, 2, 3)\n",
        "\n",
        "#acessando o primeiro elemento\n",
        "cidade [1]\n",
        "\n",
        "#acessando um intervalo de elementos (1 a 3)\n",
        "temperatura [1:3]\n",
        "\n",
        "#copiando um vetor\n",
        "cidade2 <- cidade\n",
        "cidade2\n",
        "\n",
        "#Excluindo o segundo elemento da consulta\n",
        "temperatura [-2]\n",
        "\n",
        "#alterando um elemento\n",
        "cidade [3] <- \"Belo Horizonte\"\n",
        "cidade\n",
        "\n",
        "#excluindo um vetor\n",
        "# cidade <- NULL\n"
      ],
      "execution_count": 43,
      "outputs": [
        {
          "output_type": "display_data",
          "data": {
            "text/plain": [
              "[1] \"Brasília\"       \"São Paulo\"      \"Rio de Janeiro\" \"Porto Alegre\"  "
            ],
            "text/latex": "\\begin{enumerate*}\n\\item 'Brasília'\n\\item 'São Paulo'\n\\item 'Rio de Janeiro'\n\\item 'Porto Alegre'\n\\end{enumerate*}\n",
            "text/markdown": "1. 'Brasília'\n2. 'São Paulo'\n3. 'Rio de Janeiro'\n4. 'Porto Alegre'\n\n\n",
            "text/html": [
              "<style>\n",
              ".list-inline {list-style: none; margin:0; padding: 0}\n",
              ".list-inline>li {display: inline-block}\n",
              ".list-inline>li:not(:last-child)::after {content: \"\\00b7\"; padding: 0 .5ex}\n",
              "</style>\n",
              "<ol class=list-inline><li>'Brasília'</li><li>'São Paulo'</li><li>'Rio de Janeiro'</li><li>'Porto Alegre'</li></ol>\n"
            ]
          },
          "metadata": {
            "tags": []
          }
        },
        {
          "output_type": "display_data",
          "data": {
            "text/plain": [
              "[1] \"Brasília\""
            ],
            "text/latex": "'Brasília'",
            "text/markdown": "'Brasília'",
            "text/html": [
              "'Brasília'"
            ]
          },
          "metadata": {
            "tags": []
          }
        },
        {
          "output_type": "display_data",
          "data": {
            "text/plain": [
              "[1] 32 22 35"
            ],
            "text/latex": "\\begin{enumerate*}\n\\item 32\n\\item 22\n\\item 35\n\\end{enumerate*}\n",
            "text/markdown": "1. 32\n2. 22\n3. 35\n\n\n",
            "text/html": [
              "<style>\n",
              ".list-inline {list-style: none; margin:0; padding: 0}\n",
              ".list-inline>li {display: inline-block}\n",
              ".list-inline>li:not(:last-child)::after {content: \"\\00b7\"; padding: 0 .5ex}\n",
              "</style>\n",
              "<ol class=list-inline><li>32</li><li>22</li><li>35</li></ol>\n"
            ]
          },
          "metadata": {
            "tags": []
          }
        },
        {
          "output_type": "display_data",
          "data": {
            "text/plain": [
              "[1] \"Brasília\"       \"São Paulo\"      \"Rio de Janeiro\" \"Porto Alegre\"  "
            ],
            "text/latex": "\\begin{enumerate*}\n\\item 'Brasília'\n\\item 'São Paulo'\n\\item 'Rio de Janeiro'\n\\item 'Porto Alegre'\n\\end{enumerate*}\n",
            "text/markdown": "1. 'Brasília'\n2. 'São Paulo'\n3. 'Rio de Janeiro'\n4. 'Porto Alegre'\n\n\n",
            "text/html": [
              "<style>\n",
              ".list-inline {list-style: none; margin:0; padding: 0}\n",
              ".list-inline>li {display: inline-block}\n",
              ".list-inline>li:not(:last-child)::after {content: \"\\00b7\"; padding: 0 .5ex}\n",
              "</style>\n",
              "<ol class=list-inline><li>'Brasília'</li><li>'São Paulo'</li><li>'Rio de Janeiro'</li><li>'Porto Alegre'</li></ol>\n"
            ]
          },
          "metadata": {
            "tags": []
          }
        },
        {
          "output_type": "display_data",
          "data": {
            "text/plain": [
              "[1] 32 35 17"
            ],
            "text/latex": "\\begin{enumerate*}\n\\item 32\n\\item 35\n\\item 17\n\\end{enumerate*}\n",
            "text/markdown": "1. 32\n2. 35\n3. 17\n\n\n",
            "text/html": [
              "<style>\n",
              ".list-inline {list-style: none; margin:0; padding: 0}\n",
              ".list-inline>li {display: inline-block}\n",
              ".list-inline>li:not(:last-child)::after {content: \"\\00b7\"; padding: 0 .5ex}\n",
              "</style>\n",
              "<ol class=list-inline><li>32</li><li>35</li><li>17</li></ol>\n"
            ]
          },
          "metadata": {
            "tags": []
          }
        },
        {
          "output_type": "display_data",
          "data": {
            "text/plain": [
              "[1] \"Brasília\"       \"São Paulo\"      \"Belo Horizonte\" \"Porto Alegre\"  "
            ],
            "text/latex": "\\begin{enumerate*}\n\\item 'Brasília'\n\\item 'São Paulo'\n\\item 'Belo Horizonte'\n\\item 'Porto Alegre'\n\\end{enumerate*}\n",
            "text/markdown": "1. 'Brasília'\n2. 'São Paulo'\n3. 'Belo Horizonte'\n4. 'Porto Alegre'\n\n\n",
            "text/html": [
              "<style>\n",
              ".list-inline {list-style: none; margin:0; padding: 0}\n",
              ".list-inline>li {display: inline-block}\n",
              ".list-inline>li:not(:last-child)::after {content: \"\\00b7\"; padding: 0 .5ex}\n",
              "</style>\n",
              "<ol class=list-inline><li>'Brasília'</li><li>'São Paulo'</li><li>'Belo Horizonte'</li><li>'Porto Alegre'</li></ol>\n"
            ]
          },
          "metadata": {
            "tags": []
          }
        }
      ]
    },
    {
      "cell_type": "markdown",
      "metadata": {
        "id": "Z8OXsUkbwIkI",
        "colab_type": "text"
      },
      "source": [
        "Estrutura de dados: Fator (Armazena valores categóricos (nominal ou ordinal)"
      ]
    },
    {
      "cell_type": "code",
      "metadata": {
        "id": "OGSvzkf00lMJ",
        "colab_type": "code",
        "colab": {
          "base_uri": "https://localhost:8080/",
          "height": 85
        },
        "outputId": "9a74a827-599c-4540-af54-12d06458af72"
      },
      "source": [
        "#Fator\n",
        "\n",
        "UF <- factor (c(\"DF\", \"SP\", \"RJ\", \"RS\"))\n",
        "UF\n",
        "\n",
        "grau.instrucao <- factor (c(\"Nível Médio\", \n",
        "                            \"Superior\", \n",
        "                            \"Nível Médio\", \n",
        "                            \"Fundamental\"))\n",
        "                levels = c(\"Fundamental\",\n",
        "                            \"Nível Médio\",\n",
        "                            \"Superior\")\n",
        "                ordered = TRUE\n",
        "\n",
        "grau.instrucao\n"
      ],
      "execution_count": 34,
      "outputs": [
        {
          "output_type": "display_data",
          "data": {
            "text/plain": [
              "[1] DF SP RJ RS\n",
              "Levels: DF RJ RS SP"
            ],
            "text/latex": "\\begin{enumerate*}\n\\item DF\n\\item SP\n\\item RJ\n\\item RS\n\\end{enumerate*}\n\n\\emph{Levels}: \\begin{enumerate*}\n\\item 'DF'\n\\item 'RJ'\n\\item 'RS'\n\\item 'SP'\n\\end{enumerate*}\n",
            "text/markdown": "1. DF\n2. SP\n3. RJ\n4. RS\n\n\n\n**Levels**: 1. 'DF'\n2. 'RJ'\n3. 'RS'\n4. 'SP'\n\n\n",
            "text/html": [
              "<style>\n",
              ".list-inline {list-style: none; margin:0; padding: 0}\n",
              ".list-inline>li {display: inline-block}\n",
              ".list-inline>li:not(:last-child)::after {content: \"\\00b7\"; padding: 0 .5ex}\n",
              "</style>\n",
              "<ol class=list-inline><li>DF</li><li>SP</li><li>RJ</li><li>RS</li></ol>\n",
              "\n",
              "<details>\n",
              "\t<summary style=display:list-item;cursor:pointer>\n",
              "\t\t<strong>Levels</strong>:\n",
              "\t</summary>\n",
              "\t<style>\n",
              "\t.list-inline {list-style: none; margin:0; padding: 0}\n",
              "\t.list-inline>li {display: inline-block}\n",
              "\t.list-inline>li:not(:last-child)::after {content: \"\\00b7\"; padding: 0 .5ex}\n",
              "\t</style>\n",
              "\t<ol class=list-inline><li>'DF'</li><li>'RJ'</li><li>'RS'</li><li>'SP'</li></ol>\n",
              "</details>"
            ]
          },
          "metadata": {
            "tags": []
          }
        },
        {
          "output_type": "display_data",
          "data": {
            "text/plain": [
              "[1] Nível Médio Superior    Nível Médio Fundamental\n",
              "Levels: Fundamental Nível Médio Superior"
            ],
            "text/latex": "\\begin{enumerate*}\n\\item Nível Médio\n\\item Superior\n\\item Nível Médio\n\\item Fundamental\n\\end{enumerate*}\n\n\\emph{Levels}: \\begin{enumerate*}\n\\item 'Fundamental'\n\\item 'Nível Médio'\n\\item 'Superior'\n\\end{enumerate*}\n",
            "text/markdown": "1. Nível Médio\n2. Superior\n3. Nível Médio\n4. Fundamental\n\n\n\n**Levels**: 1. 'Fundamental'\n2. 'Nível Médio'\n3. 'Superior'\n\n\n",
            "text/html": [
              "<style>\n",
              ".list-inline {list-style: none; margin:0; padding: 0}\n",
              ".list-inline>li {display: inline-block}\n",
              ".list-inline>li:not(:last-child)::after {content: \"\\00b7\"; padding: 0 .5ex}\n",
              "</style>\n",
              "<ol class=list-inline><li>Nível Médio</li><li>Superior</li><li>Nível Médio</li><li>Fundamental</li></ol>\n",
              "\n",
              "<details>\n",
              "\t<summary style=display:list-item;cursor:pointer>\n",
              "\t\t<strong>Levels</strong>:\n",
              "\t</summary>\n",
              "\t<style>\n",
              "\t.list-inline {list-style: none; margin:0; padding: 0}\n",
              "\t.list-inline>li {display: inline-block}\n",
              "\t.list-inline>li:not(:last-child)::after {content: \"\\00b7\"; padding: 0 .5ex}\n",
              "\t</style>\n",
              "\t<ol class=list-inline><li>'Fundamental'</li><li>'Nível Médio'</li><li>'Superior'</li></ol>\n",
              "</details>"
            ]
          },
          "metadata": {
            "tags": []
          }
        }
      ]
    },
    {
      "cell_type": "markdown",
      "metadata": {
        "id": "e1vQGeSe3ohY",
        "colab_type": "text"
      },
      "source": [
        "Estrutura de dados:  lista (tipo especial de vetor)"
      ]
    },
    {
      "cell_type": "code",
      "metadata": {
        "id": "M8IqMpgP39JE",
        "colab_type": "code",
        "colab": {
          "base_uri": "https://localhost:8080/",
          "height": 591
        },
        "outputId": "e1e316bd-e031-4ee5-9349-2b29a47dd831"
      },
      "source": [
        "pessoas <- list(sexo = \"M\", cidade = \"Brasília\", idade = 20)\n",
        "\n",
        "pessoas\n",
        "\n",
        "#acessar o primeiro elemento da lista\n",
        "pessoas[1]\n",
        "\n",
        "#acessar o valor do primeiro elemento da lista\n",
        "pessoas[[1]]\n",
        "\n",
        "#editando a lista\n",
        "pessoas[[\"idade\"]] <- 22\n",
        "pessoas\n",
        "\n",
        "#deletando um elemento da lista\n",
        "pessoas[[\"idade\"]] <- NULL\n",
        "pessoas\n",
        "\n",
        "#filtrando elementos de uma lista\n",
        "pessoas[c(\"cidade\", \"sexo\")]\n",
        "\n",
        "#listas de listas\n",
        "cidade <- list(cidade = cidade, temperatura = temperatura, região = região)\n",
        "cidade"
      ],
      "execution_count": 44,
      "outputs": [
        {
          "output_type": "display_data",
          "data": {
            "text/plain": [
              "$sexo\n",
              "[1] \"M\"\n",
              "\n",
              "$cidade\n",
              "[1] \"Brasília\"\n",
              "\n",
              "$idade\n",
              "[1] 20\n"
            ],
            "text/latex": "\\begin{description}\n\\item[\\$sexo] 'M'\n\\item[\\$cidade] 'Brasília'\n\\item[\\$idade] 20\n\\end{description}\n",
            "text/markdown": "$sexo\n:   'M'\n$cidade\n:   'Brasília'\n$idade\n:   20\n\n\n",
            "text/html": [
              "<dl>\n",
              "\t<dt>$sexo</dt>\n",
              "\t\t<dd>'M'</dd>\n",
              "\t<dt>$cidade</dt>\n",
              "\t\t<dd>'Brasília'</dd>\n",
              "\t<dt>$idade</dt>\n",
              "\t\t<dd>20</dd>\n",
              "</dl>\n"
            ]
          },
          "metadata": {
            "tags": []
          }
        },
        {
          "output_type": "display_data",
          "data": {
            "text/plain": [
              "$sexo\n",
              "[1] \"M\"\n"
            ],
            "text/latex": "\\textbf{\\$sexo} = 'M'",
            "text/markdown": "**$sexo** = 'M'",
            "text/html": [
              "<strong>$sexo</strong> = 'M'"
            ]
          },
          "metadata": {
            "tags": []
          }
        },
        {
          "output_type": "display_data",
          "data": {
            "text/plain": [
              "[1] \"M\""
            ],
            "text/latex": "'M'",
            "text/markdown": "'M'",
            "text/html": [
              "'M'"
            ]
          },
          "metadata": {
            "tags": []
          }
        },
        {
          "output_type": "display_data",
          "data": {
            "text/plain": [
              "$sexo\n",
              "[1] \"M\"\n",
              "\n",
              "$cidade\n",
              "[1] \"Brasília\"\n",
              "\n",
              "$idade\n",
              "[1] 22\n"
            ],
            "text/latex": "\\begin{description}\n\\item[\\$sexo] 'M'\n\\item[\\$cidade] 'Brasília'\n\\item[\\$idade] 22\n\\end{description}\n",
            "text/markdown": "$sexo\n:   'M'\n$cidade\n:   'Brasília'\n$idade\n:   22\n\n\n",
            "text/html": [
              "<dl>\n",
              "\t<dt>$sexo</dt>\n",
              "\t\t<dd>'M'</dd>\n",
              "\t<dt>$cidade</dt>\n",
              "\t\t<dd>'Brasília'</dd>\n",
              "\t<dt>$idade</dt>\n",
              "\t\t<dd>22</dd>\n",
              "</dl>\n"
            ]
          },
          "metadata": {
            "tags": []
          }
        },
        {
          "output_type": "display_data",
          "data": {
            "text/plain": [
              "$sexo\n",
              "[1] \"M\"\n",
              "\n",
              "$cidade\n",
              "[1] \"Brasília\"\n"
            ],
            "text/latex": "\\begin{description}\n\\item[\\$sexo] 'M'\n\\item[\\$cidade] 'Brasília'\n\\end{description}\n",
            "text/markdown": "$sexo\n:   'M'\n$cidade\n:   'Brasília'\n\n\n",
            "text/html": [
              "<dl>\n",
              "\t<dt>$sexo</dt>\n",
              "\t\t<dd>'M'</dd>\n",
              "\t<dt>$cidade</dt>\n",
              "\t\t<dd>'Brasília'</dd>\n",
              "</dl>\n"
            ]
          },
          "metadata": {
            "tags": []
          }
        },
        {
          "output_type": "display_data",
          "data": {
            "text/plain": [
              "$cidade\n",
              "[1] \"Brasília\"\n",
              "\n",
              "$sexo\n",
              "[1] \"M\"\n"
            ],
            "text/latex": "\\begin{description}\n\\item[\\$cidade] 'Brasília'\n\\item[\\$sexo] 'M'\n\\end{description}\n",
            "text/markdown": "$cidade\n:   'Brasília'\n$sexo\n:   'M'\n\n\n",
            "text/html": [
              "<dl>\n",
              "\t<dt>$cidade</dt>\n",
              "\t\t<dd>'Brasília'</dd>\n",
              "\t<dt>$sexo</dt>\n",
              "\t\t<dd>'M'</dd>\n",
              "</dl>\n"
            ]
          },
          "metadata": {
            "tags": []
          }
        },
        {
          "output_type": "display_data",
          "data": {
            "text/plain": [
              "$cidade\n",
              "[1] \"Brasília\"       \"São Paulo\"      \"Belo Horizonte\" \"Porto Alegre\"  \n",
              "\n",
              "$temperatura\n",
              "[1] 32 22 35 17\n",
              "\n",
              "$região\n",
              "[1] 1 2 2 3\n"
            ],
            "text/latex": "\\begin{description}\n\\item[\\$cidade] \\begin{enumerate*}\n\\item 'Brasília'\n\\item 'São Paulo'\n\\item 'Belo Horizonte'\n\\item 'Porto Alegre'\n\\end{enumerate*}\n\n\\item[\\$temperatura] \\begin{enumerate*}\n\\item 32\n\\item 22\n\\item 35\n\\item 17\n\\end{enumerate*}\n\n\\item[\\$região] \\begin{enumerate*}\n\\item 1\n\\item 2\n\\item 2\n\\item 3\n\\end{enumerate*}\n\n\\end{description}\n",
            "text/markdown": "$cidade\n:   1. 'Brasília'\n2. 'São Paulo'\n3. 'Belo Horizonte'\n4. 'Porto Alegre'\n\n\n\n$temperatura\n:   1. 32\n2. 22\n3. 35\n4. 17\n\n\n\n$região\n:   1. 1\n2. 2\n3. 2\n4. 3\n\n\n\n\n\n",
            "text/html": [
              "<dl>\n",
              "\t<dt>$cidade</dt>\n",
              "\t\t<dd><style>\n",
              ".list-inline {list-style: none; margin:0; padding: 0}\n",
              ".list-inline>li {display: inline-block}\n",
              ".list-inline>li:not(:last-child)::after {content: \"\\00b7\"; padding: 0 .5ex}\n",
              "</style>\n",
              "<ol class=list-inline><li>'Brasília'</li><li>'São Paulo'</li><li>'Belo Horizonte'</li><li>'Porto Alegre'</li></ol>\n",
              "</dd>\n",
              "\t<dt>$temperatura</dt>\n",
              "\t\t<dd><style>\n",
              ".list-inline {list-style: none; margin:0; padding: 0}\n",
              ".list-inline>li {display: inline-block}\n",
              ".list-inline>li:not(:last-child)::after {content: \"\\00b7\"; padding: 0 .5ex}\n",
              "</style>\n",
              "<ol class=list-inline><li>32</li><li>22</li><li>35</li><li>17</li></ol>\n",
              "</dd>\n",
              "\t<dt>$região</dt>\n",
              "\t\t<dd><style>\n",
              ".list-inline {list-style: none; margin:0; padding: 0}\n",
              ".list-inline>li {display: inline-block}\n",
              ".list-inline>li:not(:last-child)::after {content: \"\\00b7\"; padding: 0 .5ex}\n",
              "</style>\n",
              "<ol class=list-inline><li>1</li><li>2</li><li>2</li><li>3</li></ol>\n",
              "</dd>\n",
              "</dl>\n"
            ]
          },
          "metadata": {
            "tags": []
          }
        }
      ]
    },
    {
      "cell_type": "markdown",
      "metadata": {
        "id": "mQzxDHYb8v-9",
        "colab_type": "text"
      },
      "source": [
        "Estrutura de dados: Data Frame (organizar elementos em linhas e colunas, semelhante a uma planilha)"
      ]
    },
    {
      "cell_type": "code",
      "metadata": {
        "id": "8csaWr7m9QcB",
        "colab_type": "code",
        "colab": {
          "base_uri": "https://localhost:8080/",
          "height": 717
        },
        "outputId": "a779759d-5643-446b-d821-a008160ba61b"
      },
      "source": [
        "#Data Frame\n",
        "#criando um dataframe com vetores\n",
        "\n",
        "df <- data.frame(cidade, região)\n",
        "df\n",
        "\n",
        "#criando um dataframe com listas\n",
        "df2 <- data.frame(cidade)\n",
        "df2\n",
        "\n",
        "#filtrando valores do dataframe\n",
        "#recuperando valor da linha 1, coluna 2\n",
        "df[1, 2]\n",
        "\n",
        "#todas as linhas da primeira coluna \n",
        "df[, 1]\n",
        "\n",
        "#primeira linha e todas as colunas\n",
        "df[1,]\n",
        "\n",
        "#selecionar as 3 primeiras linhas\n",
        "#da primeira e da ultima coluna\n",
        "df[c(1:3), c(1,2)]\n",
        "\n",
        "#verificando o nome das colunas\n",
        "names(df)\n",
        "\n",
        "#verificando o número de linhas x colunas\n",
        "\n",
        "dim(df)\n",
        "\n",
        "#verificando os tipos de dados\n",
        "str(df)\n",
        "\n",
        "#acessar uma coluna do dataframe\n",
        "df$cidade"
      ],
      "execution_count": 45,
      "outputs": [
        {
          "output_type": "display_data",
          "data": {
            "text/plain": [
              "  cidade         temperatura região região.1\n",
              "1 Brasília       32          1      1       \n",
              "2 São Paulo      22          2      2       \n",
              "3 Belo Horizonte 35          2      2       \n",
              "4 Porto Alegre   17          3      3       "
            ],
            "text/latex": "A data.frame: 4 × 4\n\\begin{tabular}{llll}\n cidade & temperatura & região & região.1\\\\\n <fct> & <dbl> & <dbl> & <dbl>\\\\\n\\hline\n\t Brasília       & 32 & 1 & 1\\\\\n\t São Paulo      & 22 & 2 & 2\\\\\n\t Belo Horizonte & 35 & 2 & 2\\\\\n\t Porto Alegre   & 17 & 3 & 3\\\\\n\\end{tabular}\n",
            "text/markdown": "\nA data.frame: 4 × 4\n\n| cidade &lt;fct&gt; | temperatura &lt;dbl&gt; | região &lt;dbl&gt; | região.1 &lt;dbl&gt; |\n|---|---|---|---|\n| Brasília       | 32 | 1 | 1 |\n| São Paulo      | 22 | 2 | 2 |\n| Belo Horizonte | 35 | 2 | 2 |\n| Porto Alegre   | 17 | 3 | 3 |\n\n",
            "text/html": [
              "<table>\n",
              "<caption>A data.frame: 4 × 4</caption>\n",
              "<thead>\n",
              "\t<tr><th scope=col>cidade</th><th scope=col>temperatura</th><th scope=col>região</th><th scope=col>região.1</th></tr>\n",
              "\t<tr><th scope=col>&lt;fct&gt;</th><th scope=col>&lt;dbl&gt;</th><th scope=col>&lt;dbl&gt;</th><th scope=col>&lt;dbl&gt;</th></tr>\n",
              "</thead>\n",
              "<tbody>\n",
              "\t<tr><td>Brasília      </td><td>32</td><td>1</td><td>1</td></tr>\n",
              "\t<tr><td>São Paulo     </td><td>22</td><td>2</td><td>2</td></tr>\n",
              "\t<tr><td>Belo Horizonte</td><td>35</td><td>2</td><td>2</td></tr>\n",
              "\t<tr><td>Porto Alegre  </td><td>17</td><td>3</td><td>3</td></tr>\n",
              "</tbody>\n",
              "</table>\n"
            ]
          },
          "metadata": {
            "tags": []
          }
        },
        {
          "output_type": "display_data",
          "data": {
            "text/plain": [
              "  cidade         temperatura região\n",
              "1 Brasília       32          1     \n",
              "2 São Paulo      22          2     \n",
              "3 Belo Horizonte 35          2     \n",
              "4 Porto Alegre   17          3     "
            ],
            "text/latex": "A data.frame: 4 × 3\n\\begin{tabular}{lll}\n cidade & temperatura & região\\\\\n <fct> & <dbl> & <dbl>\\\\\n\\hline\n\t Brasília       & 32 & 1\\\\\n\t São Paulo      & 22 & 2\\\\\n\t Belo Horizonte & 35 & 2\\\\\n\t Porto Alegre   & 17 & 3\\\\\n\\end{tabular}\n",
            "text/markdown": "\nA data.frame: 4 × 3\n\n| cidade &lt;fct&gt; | temperatura &lt;dbl&gt; | região &lt;dbl&gt; |\n|---|---|---|\n| Brasília       | 32 | 1 |\n| São Paulo      | 22 | 2 |\n| Belo Horizonte | 35 | 2 |\n| Porto Alegre   | 17 | 3 |\n\n",
            "text/html": [
              "<table>\n",
              "<caption>A data.frame: 4 × 3</caption>\n",
              "<thead>\n",
              "\t<tr><th scope=col>cidade</th><th scope=col>temperatura</th><th scope=col>região</th></tr>\n",
              "\t<tr><th scope=col>&lt;fct&gt;</th><th scope=col>&lt;dbl&gt;</th><th scope=col>&lt;dbl&gt;</th></tr>\n",
              "</thead>\n",
              "<tbody>\n",
              "\t<tr><td>Brasília      </td><td>32</td><td>1</td></tr>\n",
              "\t<tr><td>São Paulo     </td><td>22</td><td>2</td></tr>\n",
              "\t<tr><td>Belo Horizonte</td><td>35</td><td>2</td></tr>\n",
              "\t<tr><td>Porto Alegre  </td><td>17</td><td>3</td></tr>\n",
              "</tbody>\n",
              "</table>\n"
            ]
          },
          "metadata": {
            "tags": []
          }
        },
        {
          "output_type": "display_data",
          "data": {
            "text/plain": [
              "[1] 32"
            ],
            "text/latex": "32",
            "text/markdown": "32",
            "text/html": [
              "32"
            ]
          },
          "metadata": {
            "tags": []
          }
        },
        {
          "output_type": "display_data",
          "data": {
            "text/plain": [
              "[1] Brasília       São Paulo      Belo Horizonte Porto Alegre  \n",
              "Levels: Belo Horizonte Brasília Porto Alegre São Paulo"
            ],
            "text/latex": "\\begin{enumerate*}\n\\item Brasília\n\\item São Paulo\n\\item Belo Horizonte\n\\item Porto Alegre\n\\end{enumerate*}\n\n\\emph{Levels}: \\begin{enumerate*}\n\\item 'Belo Horizonte'\n\\item 'Brasília'\n\\item 'Porto Alegre'\n\\item 'São Paulo'\n\\end{enumerate*}\n",
            "text/markdown": "1. Brasília\n2. São Paulo\n3. Belo Horizonte\n4. Porto Alegre\n\n\n\n**Levels**: 1. 'Belo Horizonte'\n2. 'Brasília'\n3. 'Porto Alegre'\n4. 'São Paulo'\n\n\n",
            "text/html": [
              "<style>\n",
              ".list-inline {list-style: none; margin:0; padding: 0}\n",
              ".list-inline>li {display: inline-block}\n",
              ".list-inline>li:not(:last-child)::after {content: \"\\00b7\"; padding: 0 .5ex}\n",
              "</style>\n",
              "<ol class=list-inline><li>Brasília</li><li>São Paulo</li><li>Belo Horizonte</li><li>Porto Alegre</li></ol>\n",
              "\n",
              "<details>\n",
              "\t<summary style=display:list-item;cursor:pointer>\n",
              "\t\t<strong>Levels</strong>:\n",
              "\t</summary>\n",
              "\t<style>\n",
              "\t.list-inline {list-style: none; margin:0; padding: 0}\n",
              "\t.list-inline>li {display: inline-block}\n",
              "\t.list-inline>li:not(:last-child)::after {content: \"\\00b7\"; padding: 0 .5ex}\n",
              "\t</style>\n",
              "\t<ol class=list-inline><li>'Belo Horizonte'</li><li>'Brasília'</li><li>'Porto Alegre'</li><li>'São Paulo'</li></ol>\n",
              "</details>"
            ]
          },
          "metadata": {
            "tags": []
          }
        },
        {
          "output_type": "display_data",
          "data": {
            "text/plain": [
              "  cidade   temperatura região região.1\n",
              "1 Brasília 32          1      1       "
            ],
            "text/latex": "A data.frame: 1 × 4\n\\begin{tabular}{r|llll}\n  & cidade & temperatura & região & região.1\\\\\n  & <fct> & <dbl> & <dbl> & <dbl>\\\\\n\\hline\n\t1 & Brasília & 32 & 1 & 1\\\\\n\\end{tabular}\n",
            "text/markdown": "\nA data.frame: 1 × 4\n\n| <!--/--> | cidade &lt;fct&gt; | temperatura &lt;dbl&gt; | região &lt;dbl&gt; | região.1 &lt;dbl&gt; |\n|---|---|---|---|---|\n| 1 | Brasília | 32 | 1 | 1 |\n\n",
            "text/html": [
              "<table>\n",
              "<caption>A data.frame: 1 × 4</caption>\n",
              "<thead>\n",
              "\t<tr><th></th><th scope=col>cidade</th><th scope=col>temperatura</th><th scope=col>região</th><th scope=col>região.1</th></tr>\n",
              "\t<tr><th></th><th scope=col>&lt;fct&gt;</th><th scope=col>&lt;dbl&gt;</th><th scope=col>&lt;dbl&gt;</th><th scope=col>&lt;dbl&gt;</th></tr>\n",
              "</thead>\n",
              "<tbody>\n",
              "\t<tr><th scope=row>1</th><td>Brasília</td><td>32</td><td>1</td><td>1</td></tr>\n",
              "</tbody>\n",
              "</table>\n"
            ]
          },
          "metadata": {
            "tags": []
          }
        },
        {
          "output_type": "display_data",
          "data": {
            "text/plain": [
              "  cidade         temperatura\n",
              "1 Brasília       32         \n",
              "2 São Paulo      22         \n",
              "3 Belo Horizonte 35         "
            ],
            "text/latex": "A data.frame: 3 × 2\n\\begin{tabular}{r|ll}\n  & cidade & temperatura\\\\\n  & <fct> & <dbl>\\\\\n\\hline\n\t1 & Brasília       & 32\\\\\n\t2 & São Paulo      & 22\\\\\n\t3 & Belo Horizonte & 35\\\\\n\\end{tabular}\n",
            "text/markdown": "\nA data.frame: 3 × 2\n\n| <!--/--> | cidade &lt;fct&gt; | temperatura &lt;dbl&gt; |\n|---|---|---|\n| 1 | Brasília       | 32 |\n| 2 | São Paulo      | 22 |\n| 3 | Belo Horizonte | 35 |\n\n",
            "text/html": [
              "<table>\n",
              "<caption>A data.frame: 3 × 2</caption>\n",
              "<thead>\n",
              "\t<tr><th></th><th scope=col>cidade</th><th scope=col>temperatura</th></tr>\n",
              "\t<tr><th></th><th scope=col>&lt;fct&gt;</th><th scope=col>&lt;dbl&gt;</th></tr>\n",
              "</thead>\n",
              "<tbody>\n",
              "\t<tr><th scope=row>1</th><td>Brasília      </td><td>32</td></tr>\n",
              "\t<tr><th scope=row>2</th><td>São Paulo     </td><td>22</td></tr>\n",
              "\t<tr><th scope=row>3</th><td>Belo Horizonte</td><td>35</td></tr>\n",
              "</tbody>\n",
              "</table>\n"
            ]
          },
          "metadata": {
            "tags": []
          }
        },
        {
          "output_type": "display_data",
          "data": {
            "text/plain": [
              "[1] \"cidade\"      \"temperatura\" \"região\"      \"região.1\"   "
            ],
            "text/latex": "\\begin{enumerate*}\n\\item 'cidade'\n\\item 'temperatura'\n\\item 'região'\n\\item 'região.1'\n\\end{enumerate*}\n",
            "text/markdown": "1. 'cidade'\n2. 'temperatura'\n3. 'região'\n4. 'região.1'\n\n\n",
            "text/html": [
              "<style>\n",
              ".list-inline {list-style: none; margin:0; padding: 0}\n",
              ".list-inline>li {display: inline-block}\n",
              ".list-inline>li:not(:last-child)::after {content: \"\\00b7\"; padding: 0 .5ex}\n",
              "</style>\n",
              "<ol class=list-inline><li>'cidade'</li><li>'temperatura'</li><li>'região'</li><li>'região.1'</li></ol>\n"
            ]
          },
          "metadata": {
            "tags": []
          }
        },
        {
          "output_type": "display_data",
          "data": {
            "text/plain": [
              "[1] 4 4"
            ],
            "text/latex": "\\begin{enumerate*}\n\\item 4\n\\item 4\n\\end{enumerate*}\n",
            "text/markdown": "1. 4\n2. 4\n\n\n",
            "text/html": [
              "<style>\n",
              ".list-inline {list-style: none; margin:0; padding: 0}\n",
              ".list-inline>li {display: inline-block}\n",
              ".list-inline>li:not(:last-child)::after {content: \"\\00b7\"; padding: 0 .5ex}\n",
              "</style>\n",
              "<ol class=list-inline><li>4</li><li>4</li></ol>\n"
            ]
          },
          "metadata": {
            "tags": []
          }
        },
        {
          "output_type": "stream",
          "text": [
            "'data.frame':\t4 obs. of  4 variables:\n",
            " $ cidade     : Factor w/ 4 levels \"Belo Horizonte\",..: 2 4 1 3\n",
            " $ temperatura: num  32 22 35 17\n",
            " $ região     : num  1 2 2 3\n",
            " $ região.1   : num  1 2 2 3\n"
          ],
          "name": "stdout"
        },
        {
          "output_type": "display_data",
          "data": {
            "text/plain": [
              "[1] Brasília       São Paulo      Belo Horizonte Porto Alegre  \n",
              "Levels: Belo Horizonte Brasília Porto Alegre São Paulo"
            ],
            "text/latex": "\\begin{enumerate*}\n\\item Brasília\n\\item São Paulo\n\\item Belo Horizonte\n\\item Porto Alegre\n\\end{enumerate*}\n\n\\emph{Levels}: \\begin{enumerate*}\n\\item 'Belo Horizonte'\n\\item 'Brasília'\n\\item 'Porto Alegre'\n\\item 'São Paulo'\n\\end{enumerate*}\n",
            "text/markdown": "1. Brasília\n2. São Paulo\n3. Belo Horizonte\n4. Porto Alegre\n\n\n\n**Levels**: 1. 'Belo Horizonte'\n2. 'Brasília'\n3. 'Porto Alegre'\n4. 'São Paulo'\n\n\n",
            "text/html": [
              "<style>\n",
              ".list-inline {list-style: none; margin:0; padding: 0}\n",
              ".list-inline>li {display: inline-block}\n",
              ".list-inline>li:not(:last-child)::after {content: \"\\00b7\"; padding: 0 .5ex}\n",
              "</style>\n",
              "<ol class=list-inline><li>Brasília</li><li>São Paulo</li><li>Belo Horizonte</li><li>Porto Alegre</li></ol>\n",
              "\n",
              "<details>\n",
              "\t<summary style=display:list-item;cursor:pointer>\n",
              "\t\t<strong>Levels</strong>:\n",
              "\t</summary>\n",
              "\t<style>\n",
              "\t.list-inline {list-style: none; margin:0; padding: 0}\n",
              "\t.list-inline>li {display: inline-block}\n",
              "\t.list-inline>li:not(:last-child)::after {content: \"\\00b7\"; padding: 0 .5ex}\n",
              "\t</style>\n",
              "\t<ol class=list-inline><li>'Belo Horizonte'</li><li>'Brasília'</li><li>'Porto Alegre'</li><li>'São Paulo'</li></ol>\n",
              "</details>"
            ]
          },
          "metadata": {
            "tags": []
          }
        }
      ]
    },
    {
      "cell_type": "markdown",
      "metadata": {
        "id": "HBiMTECsHjee",
        "colab_type": "text"
      },
      "source": [
        "Estrutura de dados: Matriz (Armazena dados tabulares semelhante ao data frame, porém só aceita um tipo de dado)."
      ]
    },
    {
      "cell_type": "code",
      "metadata": {
        "id": "ry2gv-oHHzzT",
        "colab_type": "code",
        "colab": {
          "base_uri": "https://localhost:8080/",
          "height": 184
        },
        "outputId": "1e0299f0-2e64-403c-8cb1-775b256d6ad7"
      },
      "source": [
        "#Matriz\n",
        "\n",
        "m <- matrix(seq (1:9), nrow = 3)\n",
        "m\n",
        "\n",
        "m2 <- matrix(seq (1:25), \n",
        "            ncol = 5, \n",
        "            byrow = TRUE, \n",
        "            dimnames = list(c(seq (1:5)),\n",
        "                            c('a', 'b', 'c', 'd', 'e')))\n",
        "\n"
      ],
      "execution_count": 46,
      "outputs": [
        {
          "output_type": "display_data",
          "data": {
            "text/plain": [
              "     [,1] [,2] [,3]\n",
              "[1,] 1    4    7   \n",
              "[2,] 2    5    8   \n",
              "[3,] 3    6    9   "
            ],
            "text/latex": "A matrix: 3 × 3 of type int\n\\begin{tabular}{lll}\n\t 1 & 4 & 7\\\\\n\t 2 & 5 & 8\\\\\n\t 3 & 6 & 9\\\\\n\\end{tabular}\n",
            "text/markdown": "\nA matrix: 3 × 3 of type int\n\n| 1 | 4 | 7 |\n| 2 | 5 | 8 |\n| 3 | 6 | 9 |\n\n",
            "text/html": [
              "<table>\n",
              "<caption>A matrix: 3 × 3 of type int</caption>\n",
              "<tbody>\n",
              "\t<tr><td>1</td><td>4</td><td>7</td></tr>\n",
              "\t<tr><td>2</td><td>5</td><td>8</td></tr>\n",
              "\t<tr><td>3</td><td>6</td><td>9</td></tr>\n",
              "</tbody>\n",
              "</table>\n"
            ]
          },
          "metadata": {
            "tags": []
          }
        }
      ]
    },
    {
      "cell_type": "markdown",
      "metadata": {
        "id": "lyfYNJHLWzNW",
        "colab_type": "text"
      },
      "source": [
        "**Estrutura de Repetição:** For() é utilizada para acessar cada elemento de uma sequência (vetor, coluna de matriz ou data frame matriz)."
      ]
    },
    {
      "cell_type": "code",
      "metadata": {
        "id": "ILgwp_kCXA6A",
        "colab_type": "code",
        "colab": {
          "base_uri": "https://localhost:8080/",
          "height": 221
        },
        "outputId": "128b2c9d-ebf7-4328-fd6f-9d98c05505e0"
      },
      "source": [
        "#for\n",
        "#for(valor in sequencia){\n",
        "#    código}\n",
        "\n",
        "for (i in seq(12)){\n",
        "  print(i)}"
      ],
      "execution_count": 47,
      "outputs": [
        {
          "output_type": "stream",
          "text": [
            "[1] 1\n",
            "[1] 2\n",
            "[1] 3\n",
            "[1] 4\n",
            "[1] 5\n",
            "[1] 6\n",
            "[1] 7\n",
            "[1] 8\n",
            "[1] 9\n",
            "[1] 10\n",
            "[1] 11\n",
            "[1] 12\n"
          ],
          "name": "stdout"
        }
      ]
    },
    {
      "cell_type": "markdown",
      "metadata": {
        "id": "J1gnpQoIYq5C",
        "colab_type": "text"
      },
      "source": [
        "Estrutura de Repetição: While() é utilizada para repetir uma operação por um determinado número de vezes."
      ]
    },
    {
      "cell_type": "code",
      "metadata": {
        "id": "a1LqurWlY9gy",
        "colab_type": "code",
        "colab": {
          "base_uri": "https://localhost:8080/",
          "height": 204
        },
        "outputId": "c3a3c5bb-ed0e-4690-9b55-f132e3c691f0"
      },
      "source": [
        "#While\n",
        "# while(condição){\n",
        "#       código}\n",
        "\n",
        "i <- 0\n",
        "while (i <= 10){\n",
        "  print(i)\n",
        "  i = i+1\n",
        "}"
      ],
      "execution_count": 48,
      "outputs": [
        {
          "output_type": "stream",
          "text": [
            "[1] 0\n",
            "[1] 1\n",
            "[1] 2\n",
            "[1] 3\n",
            "[1] 4\n",
            "[1] 5\n",
            "[1] 6\n",
            "[1] 7\n",
            "[1] 8\n",
            "[1] 9\n",
            "[1] 10\n"
          ],
          "name": "stdout"
        }
      ]
    },
    {
      "cell_type": "markdown",
      "metadata": {
        "id": "4msKhrZSZ4lw",
        "colab_type": "text"
      },
      "source": [
        "Controle de fluxo: if() executa parte de um código somente se uma condição for exercida, afim de testar consdições e controlar o fluxo do script"
      ]
    },
    {
      "cell_type": "code",
      "metadata": {
        "id": "ckFQGAFJaOvt",
        "colab_type": "code",
        "colab": {
          "base_uri": "https://localhost:8080/",
          "height": 34
        },
        "outputId": "aa578063-43f8-4d56-9bae-3abd816ec08d"
      },
      "source": [
        "#controle de fluxo\n",
        "# if(condição){\n",
        "#  código}\n",
        "\n",
        "x = 70\n",
        "if (x>0){\n",
        "  print(\"número positivo\")\n",
        "}"
      ],
      "execution_count": 49,
      "outputs": [
        {
          "output_type": "stream",
          "text": [
            "[1] \"número positivo\"\n"
          ],
          "name": "stdout"
        }
      ]
    },
    {
      "cell_type": "markdown",
      "metadata": {
        "id": "HADI6BBya8hO",
        "colab_type": "text"
      },
      "source": [
        "Controle de fluxo: else if() "
      ]
    },
    {
      "cell_type": "code",
      "metadata": {
        "id": "JjuZ7HBebDpG",
        "colab_type": "code",
        "colab": {
          "base_uri": "https://localhost:8080/",
          "height": 34
        },
        "outputId": "f85f0016-ccb5-404b-e894-5b08e7c1934c"
      },
      "source": [
        "nota = 1\n",
        "if (nota >= 7){              #condição\n",
        "  print(\"Aprovado\")\n",
        " } else if (nota > 5 && nota < 7){ #\"mas se\"\n",
        "   print(\"Recuperação\")\n",
        " } else {                    #usado quando nenhuma condição é atendida\n",
        "   print (\"Reprovado\")\n",
        " }\n"
      ],
      "execution_count": 10,
      "outputs": [
        {
          "output_type": "stream",
          "text": [
            "[1] \"Reprovado\"\n"
          ],
          "name": "stdout"
        }
      ]
    },
    {
      "cell_type": "markdown",
      "metadata": {
        "id": "bCbggzM2cZ7i",
        "colab_type": "text"
      },
      "source": [
        "Criar funções "
      ]
    },
    {
      "cell_type": "code",
      "metadata": {
        "id": "Eamd9QTgckUV",
        "colab_type": "code",
        "colab": {
          "base_uri": "https://localhost:8080/",
          "height": 34
        },
        "outputId": "93b6ef8a-cd47-40dc-ce08-8ddd99166834"
      },
      "source": [
        "#Criar funções\n",
        "\n",
        "par.impar <- function(num){\n",
        "  if ((num %% 2) == 0){\n",
        "    return(\"par\")\n",
        "  }else\n",
        "  return(\"impar\")\n",
        "}\n",
        "\n",
        "num = 4\n",
        "par.impar(num)"
      ],
      "execution_count": 16,
      "outputs": [
        {
          "output_type": "display_data",
          "data": {
            "text/plain": [
              "[1] \"par\""
            ],
            "text/latex": "'par'",
            "text/markdown": "'par'",
            "text/html": [
              "'par'"
            ]
          },
          "metadata": {
            "tags": []
          }
        }
      ]
    },
    {
      "cell_type": "markdown",
      "metadata": {
        "id": "lwT_l9lqHW6J",
        "colab_type": "text"
      },
      "source": [
        "Apply é um conjunto de funções, ou seja, ela possui algumas variações, tais como: “lapply”, “tapply”, “sapply” e outras."
      ]
    },
    {
      "cell_type": "code",
      "metadata": {
        "id": "XPUbvjIrfCut",
        "colab_type": "code",
        "colab": {
          "base_uri": "https://localhost:8080/",
          "height": 345
        },
        "outputId": "d64a398a-114c-410f-dcb6-23caebccba3b"
      },
      "source": [
        "#Apply\n",
        "x <- seq(1:9)\n",
        "matriz <- matrix(x,ncol = 3)\n",
        "matriz\n",
        "\n",
        "result1 <- apply(matriz,1,sum) #indica se a operação deve ser realizada por linha ou coluna, linha=1, coluna=2\n",
        "result1 #soma dos valores de cada linha (1+4+7=12, 2+5+8=15, 3+6+9=18)\n",
        "\n",
        "result2 <- apply(matriz,2,sum) #indica se a operação deve ser realizada por linha ou coluna, linha=1, coluna=2\n",
        "result2   #soma dos valores de cada coluna (1+2+3=6, 4+5+6=15, 7+8+9=24)\n",
        "\n",
        "#Lapply = aplicada em vetores e listas\n",
        "numeros.p <- c(2, 4, 6, 8, 10 , 12)\n",
        "numeros.i <- c( 1, 3, 5 ,7 ,9, 11)\n",
        "numeros <- list(numeros.p, numeros.i)\n",
        "numeros\n",
        "\n",
        "lapply (numeros, mean) #retorna com a média dos valores das listas\n",
        "\n",
        "#sapply\n",
        "sapply (numeros, mean) #tem a mesma função de lapply, só muda na forma que apresenta o resultado\n",
        "\n"
      ],
      "execution_count": 23,
      "outputs": [
        {
          "output_type": "display_data",
          "data": {
            "text/plain": [
              "     [,1] [,2] [,3]\n",
              "[1,] 1    4    7   \n",
              "[2,] 2    5    8   \n",
              "[3,] 3    6    9   "
            ],
            "text/latex": "A matrix: 3 × 3 of type int\n\\begin{tabular}{lll}\n\t 1 & 4 & 7\\\\\n\t 2 & 5 & 8\\\\\n\t 3 & 6 & 9\\\\\n\\end{tabular}\n",
            "text/markdown": "\nA matrix: 3 × 3 of type int\n\n| 1 | 4 | 7 |\n| 2 | 5 | 8 |\n| 3 | 6 | 9 |\n\n",
            "text/html": [
              "<table>\n",
              "<caption>A matrix: 3 × 3 of type int</caption>\n",
              "<tbody>\n",
              "\t<tr><td>1</td><td>4</td><td>7</td></tr>\n",
              "\t<tr><td>2</td><td>5</td><td>8</td></tr>\n",
              "\t<tr><td>3</td><td>6</td><td>9</td></tr>\n",
              "</tbody>\n",
              "</table>\n"
            ]
          },
          "metadata": {
            "tags": []
          }
        },
        {
          "output_type": "display_data",
          "data": {
            "text/plain": [
              "[1] 12 15 18"
            ],
            "text/latex": "\\begin{enumerate*}\n\\item 12\n\\item 15\n\\item 18\n\\end{enumerate*}\n",
            "text/markdown": "1. 12\n2. 15\n3. 18\n\n\n",
            "text/html": [
              "<style>\n",
              ".list-inline {list-style: none; margin:0; padding: 0}\n",
              ".list-inline>li {display: inline-block}\n",
              ".list-inline>li:not(:last-child)::after {content: \"\\00b7\"; padding: 0 .5ex}\n",
              "</style>\n",
              "<ol class=list-inline><li>12</li><li>15</li><li>18</li></ol>\n"
            ]
          },
          "metadata": {
            "tags": []
          }
        },
        {
          "output_type": "display_data",
          "data": {
            "text/plain": [
              "[1]  6 15 24"
            ],
            "text/latex": "\\begin{enumerate*}\n\\item 6\n\\item 15\n\\item 24\n\\end{enumerate*}\n",
            "text/markdown": "1. 6\n2. 15\n3. 24\n\n\n",
            "text/html": [
              "<style>\n",
              ".list-inline {list-style: none; margin:0; padding: 0}\n",
              ".list-inline>li {display: inline-block}\n",
              ".list-inline>li:not(:last-child)::after {content: \"\\00b7\"; padding: 0 .5ex}\n",
              "</style>\n",
              "<ol class=list-inline><li>6</li><li>15</li><li>24</li></ol>\n"
            ]
          },
          "metadata": {
            "tags": []
          }
        },
        {
          "output_type": "display_data",
          "data": {
            "text/plain": [
              "[[1]]\n",
              "[1]  2  4  6  8 10 12\n",
              "\n",
              "[[2]]\n",
              "[1]  1  3  5  7  9 11\n"
            ],
            "text/latex": "\\begin{enumerate}\n\\item \\begin{enumerate*}\n\\item 2\n\\item 4\n\\item 6\n\\item 8\n\\item 10\n\\item 12\n\\end{enumerate*}\n\n\\item \\begin{enumerate*}\n\\item 1\n\\item 3\n\\item 5\n\\item 7\n\\item 9\n\\item 11\n\\end{enumerate*}\n\n\\end{enumerate}\n",
            "text/markdown": "1. 1. 2\n2. 4\n3. 6\n4. 8\n5. 10\n6. 12\n\n\n\n2. 1. 1\n2. 3\n3. 5\n4. 7\n5. 9\n6. 11\n\n\n\n\n\n",
            "text/html": [
              "<ol>\n",
              "\t<li><style>\n",
              ".list-inline {list-style: none; margin:0; padding: 0}\n",
              ".list-inline>li {display: inline-block}\n",
              ".list-inline>li:not(:last-child)::after {content: \"\\00b7\"; padding: 0 .5ex}\n",
              "</style>\n",
              "<ol class=list-inline><li>2</li><li>4</li><li>6</li><li>8</li><li>10</li><li>12</li></ol>\n",
              "</li>\n",
              "\t<li><style>\n",
              ".list-inline {list-style: none; margin:0; padding: 0}\n",
              ".list-inline>li {display: inline-block}\n",
              ".list-inline>li:not(:last-child)::after {content: \"\\00b7\"; padding: 0 .5ex}\n",
              "</style>\n",
              "<ol class=list-inline><li>1</li><li>3</li><li>5</li><li>7</li><li>9</li><li>11</li></ol>\n",
              "</li>\n",
              "</ol>\n"
            ]
          },
          "metadata": {
            "tags": []
          }
        },
        {
          "output_type": "display_data",
          "data": {
            "text/plain": [
              "[[1]]\n",
              "[1] 7\n",
              "\n",
              "[[2]]\n",
              "[1] 6\n"
            ],
            "text/latex": "\\begin{enumerate}\n\\item 7\n\\item 6\n\\end{enumerate}\n",
            "text/markdown": "1. 7\n2. 6\n\n\n",
            "text/html": [
              "<ol>\n",
              "\t<li>7</li>\n",
              "\t<li>6</li>\n",
              "</ol>\n"
            ]
          },
          "metadata": {
            "tags": []
          }
        },
        {
          "output_type": "display_data",
          "data": {
            "text/plain": [
              "[1] 7 6"
            ],
            "text/latex": "\\begin{enumerate*}\n\\item 7\n\\item 6\n\\end{enumerate*}\n",
            "text/markdown": "1. 7\n2. 6\n\n\n",
            "text/html": [
              "<style>\n",
              ".list-inline {list-style: none; margin:0; padding: 0}\n",
              ".list-inline>li {display: inline-block}\n",
              ".list-inline>li:not(:last-child)::after {content: \"\\00b7\"; padding: 0 .5ex}\n",
              "</style>\n",
              "<ol class=list-inline><li>7</li><li>6</li></ol>\n"
            ]
          },
          "metadata": {
            "tags": []
          }
        }
      ]
    },
    {
      "cell_type": "markdown",
      "metadata": {
        "id": "5Mj0RJU1mtNR",
        "colab_type": "text"
      },
      "source": [
        "**Criando Gráficos**: Historgrama (mtcars)"
      ]
    },
    {
      "cell_type": "code",
      "metadata": {
        "id": "yilguMCLmvtp",
        "colab_type": "code",
        "colab": {
          "base_uri": "https://localhost:8080/",
          "height": 624
        },
        "outputId": "094e8be5-1f34-4a5a-8407-865ebc99c5fb"
      },
      "source": [
        "carros <- mtcars \n",
        "carros <- mtcars[, c(1,2,9)]\n",
        "head(carros)\n",
        "\n",
        "#gráfico histograma\n",
        "hist(carros$mpg)"
      ],
      "execution_count": 25,
      "outputs": [
        {
          "output_type": "display_data",
          "data": {
            "text/plain": [
              "                  mpg  cyl am\n",
              "Mazda RX4         21.0 6   1 \n",
              "Mazda RX4 Wag     21.0 6   1 \n",
              "Datsun 710        22.8 4   1 \n",
              "Hornet 4 Drive    21.4 6   0 \n",
              "Hornet Sportabout 18.7 8   0 \n",
              "Valiant           18.1 6   0 "
            ],
            "text/latex": "A data.frame: 6 × 3\n\\begin{tabular}{r|lll}\n  & mpg & cyl & am\\\\\n  & <dbl> & <dbl> & <dbl>\\\\\n\\hline\n\tMazda RX4 & 21.0 & 6 & 1\\\\\n\tMazda RX4 Wag & 21.0 & 6 & 1\\\\\n\tDatsun 710 & 22.8 & 4 & 1\\\\\n\tHornet 4 Drive & 21.4 & 6 & 0\\\\\n\tHornet Sportabout & 18.7 & 8 & 0\\\\\n\tValiant & 18.1 & 6 & 0\\\\\n\\end{tabular}\n",
            "text/markdown": "\nA data.frame: 6 × 3\n\n| <!--/--> | mpg &lt;dbl&gt; | cyl &lt;dbl&gt; | am &lt;dbl&gt; |\n|---|---|---|---|\n| Mazda RX4 | 21.0 | 6 | 1 |\n| Mazda RX4 Wag | 21.0 | 6 | 1 |\n| Datsun 710 | 22.8 | 4 | 1 |\n| Hornet 4 Drive | 21.4 | 6 | 0 |\n| Hornet Sportabout | 18.7 | 8 | 0 |\n| Valiant | 18.1 | 6 | 0 |\n\n",
            "text/html": [
              "<table>\n",
              "<caption>A data.frame: 6 × 3</caption>\n",
              "<thead>\n",
              "\t<tr><th></th><th scope=col>mpg</th><th scope=col>cyl</th><th scope=col>am</th></tr>\n",
              "\t<tr><th></th><th scope=col>&lt;dbl&gt;</th><th scope=col>&lt;dbl&gt;</th><th scope=col>&lt;dbl&gt;</th></tr>\n",
              "</thead>\n",
              "<tbody>\n",
              "\t<tr><th scope=row>Mazda RX4</th><td>21.0</td><td>6</td><td>1</td></tr>\n",
              "\t<tr><th scope=row>Mazda RX4 Wag</th><td>21.0</td><td>6</td><td>1</td></tr>\n",
              "\t<tr><th scope=row>Datsun 710</th><td>22.8</td><td>4</td><td>1</td></tr>\n",
              "\t<tr><th scope=row>Hornet 4 Drive</th><td>21.4</td><td>6</td><td>0</td></tr>\n",
              "\t<tr><th scope=row>Hornet Sportabout</th><td>18.7</td><td>8</td><td>0</td></tr>\n",
              "\t<tr><th scope=row>Valiant</th><td>18.1</td><td>6</td><td>0</td></tr>\n",
              "</tbody>\n",
              "</table>\n"
            ]
          },
          "metadata": {
            "tags": []
          }
        },
        {
          "output_type": "display_data",
          "data": {
            "image/png": "[encoded data removed]",
            "text/plain": [
              "Plot with title “Histogram of carros$mpg”"
            ]
          },
          "metadata": {
            "tags": [],
            "image/png": {
              "width": 420,
              "height": 420
            }
          }
        }
      ]
    },
    {
      "cell_type": "markdown",
      "metadata": {
        "id": "_lcRZx2L1oUW",
        "colab_type": "text"
      },
      "source": [
        "**Criando Gráficos**: Dispersão (mtcars) "
      ]
    },
    {
      "cell_type": "code",
      "metadata": {
        "id": "R8PEotA51qaD",
        "colab_type": "code",
        "colab": {
          "base_uri": "https://localhost:8080/",
          "height": 437
        },
        "outputId": "b27aea9e-e102-4110-f465-98f2e109fb64"
      },
      "source": [
        "#Gráfico de dispersão\n",
        "\n",
        "plot(carros$mpg, carros$cyl) #função requer dois parâmetros"
      ],
      "execution_count": 26,
      "outputs": [
        {
          "output_type": "display_data",
          "data": {
            "image/png": "[encoded data removed]",
            "text/plain": [
              "plot without title"
            ]
          },
          "metadata": {
            "tags": [],
            "image/png": {
              "width": 420,
              "height": 420
            }
          }
        }
      ]
    },
    {
      "cell_type": "markdown",
      "metadata": {
        "id": "rh_tvvUu2PnD",
        "colab_type": "text"
      },
      "source": [
        "**Criando Gráficos**: Usando pacote ggplot2"
      ]
    },
    {
      "cell_type": "code",
      "metadata": {
        "id": "67TU6jGt2WqS",
        "colab_type": "code",
        "colab": {
          "base_uri": "https://localhost:8080/",
          "height": 437
        },
        "outputId": "d9bbbaea-6af5-4219-cd9e-fc21c7d21148"
      },
      "source": [
        "library(ggplot2)\n",
        "ggplot(carros,aes(am))+ #para usar a função ggplot()é necessário dois parâmetros: o dataset e a coluna. A cada vetor existente na coluna,\n",
        "#será criada uma barra\n",
        "geom_bar()"
      ],
      "execution_count": 28,
      "outputs": [
        {
          "output_type": "display_data",
          "data": {
            "image/png": "[encoded data removed]",
            "text/plain": [
              "plot without title"
            ]
          },
          "metadata": {
            "tags": [],
            "image/png": {
              "width": 420,
              "height": 420
            }
          }
        }
      ]
    },
    {
      "cell_type": "markdown",
      "metadata": {
        "id": "Xd7CVs9wHlNS",
        "colab_type": "text"
      },
      "source": [
        "Utilizando junções: joins"
      ]
    },
    {
      "cell_type": "code",
      "metadata": {
        "id": "Azi82PCiHyLe",
        "colab_type": "code",
        "colab": {
          "base_uri": "https://localhost:8080/",
          "height": 341
        },
        "outputId": "3362ca33-2a4c-4fda-b447-90f9e55c7f72"
      },
      "source": [
        "#join\n",
        "\n",
        "data.frame1 <- data.frame(produto = c(1,2,3,5), preço = c(15,10,25,20))\n",
        "head(data.frame1) #para exibir a tabela\n",
        "\n",
        "data.frame2 <- data.frame(produto = c(1,2,3,4), Nome = c(\"A\", \"B\", \"C\", \"D\"))\n",
        "head(data.frame2)\n",
        "\n",
        "library(dplyr)\n",
        "\n",
        "#função left_join para unir os dados das duas tabelas, essa função mantém os dados\n",
        "#da tabela da esquerda, e caso não encontre um valor correspondente da tabela da direita\n",
        "#será atribuido o valor \"<NA>\"\n",
        "\n",
        "# a função right_join, todos os dados da coluna da direita são mantidos e, quando\n",
        "# não for encontrado um valor correspondente, o valor \"NA\" será atribuido\n",
        "\n",
        "data.frame3 <- left_join(data.frame1, data.frame2, \"produto\")\n",
        "\n",
        "data.frame4 <- right_join(data.frame1, data.frame2, \"produto\")"
      ],
      "execution_count": 54,
      "outputs": [
        {
          "output_type": "display_data",
          "data": {
            "text/plain": [
              "  produto preço\n",
              "1 1       15   \n",
              "2 2       10   \n",
              "3 3       25   \n",
              "4 5       20   "
            ],
            "text/latex": "A data.frame: 4 × 2\n\\begin{tabular}{r|ll}\n  & produto & preço\\\\\n  & <dbl> & <dbl>\\\\\n\\hline\n\t1 & 1 & 15\\\\\n\t2 & 2 & 10\\\\\n\t3 & 3 & 25\\\\\n\t4 & 5 & 20\\\\\n\\end{tabular}\n",
            "text/markdown": "\nA data.frame: 4 × 2\n\n| <!--/--> | produto &lt;dbl&gt; | preço &lt;dbl&gt; |\n|---|---|---|\n| 1 | 1 | 15 |\n| 2 | 2 | 10 |\n| 3 | 3 | 25 |\n| 4 | 5 | 20 |\n\n",
            "text/html": [
              "<table>\n",
              "<caption>A data.frame: 4 × 2</caption>\n",
              "<thead>\n",
              "\t<tr><th></th><th scope=col>produto</th><th scope=col>preço</th></tr>\n",
              "\t<tr><th></th><th scope=col>&lt;dbl&gt;</th><th scope=col>&lt;dbl&gt;</th></tr>\n",
              "</thead>\n",
              "<tbody>\n",
              "\t<tr><th scope=row>1</th><td>1</td><td>15</td></tr>\n",
              "\t<tr><th scope=row>2</th><td>2</td><td>10</td></tr>\n",
              "\t<tr><th scope=row>3</th><td>3</td><td>25</td></tr>\n",
              "\t<tr><th scope=row>4</th><td>5</td><td>20</td></tr>\n",
              "</tbody>\n",
              "</table>\n"
            ]
          },
          "metadata": {
            "tags": []
          }
        },
        {
          "output_type": "display_data",
          "data": {
            "text/plain": [
              "  produto Nome\n",
              "1 1       A   \n",
              "2 2       B   \n",
              "3 3       C   \n",
              "4 4       D   "
            ],
            "text/latex": "A data.frame: 4 × 2\n\\begin{tabular}{r|ll}\n  & produto & Nome\\\\\n  & <dbl> & <fct>\\\\\n\\hline\n\t1 & 1 & A\\\\\n\t2 & 2 & B\\\\\n\t3 & 3 & C\\\\\n\t4 & 4 & D\\\\\n\\end{tabular}\n",
            "text/markdown": "\nA data.frame: 4 × 2\n\n| <!--/--> | produto &lt;dbl&gt; | Nome &lt;fct&gt; |\n|---|---|---|\n| 1 | 1 | A |\n| 2 | 2 | B |\n| 3 | 3 | C |\n| 4 | 4 | D |\n\n",
            "text/html": [
              "<table>\n",
              "<caption>A data.frame: 4 × 2</caption>\n",
              "<thead>\n",
              "\t<tr><th></th><th scope=col>produto</th><th scope=col>Nome</th></tr>\n",
              "\t<tr><th></th><th scope=col>&lt;dbl&gt;</th><th scope=col>&lt;fct&gt;</th></tr>\n",
              "</thead>\n",
              "<tbody>\n",
              "\t<tr><th scope=row>1</th><td>1</td><td>A</td></tr>\n",
              "\t<tr><th scope=row>2</th><td>2</td><td>B</td></tr>\n",
              "\t<tr><th scope=row>3</th><td>3</td><td>C</td></tr>\n",
              "\t<tr><th scope=row>4</th><td>4</td><td>D</td></tr>\n",
              "</tbody>\n",
              "</table>\n"
            ]
          },
          "metadata": {
            "tags": []
          }
        }
      ]
    },
    {
      "cell_type": "code",
      "metadata": {
        "id": "2_PLCVe0eLOO",
        "colab_type": "code",
        "colab": {}
      },
      "source": [
        ""
      ],
      "execution_count": null,
      "outputs": []
    },
    {
      "cell_type": "markdown",
      "metadata": {
        "id": "7Az9geikht14",
        "colab_type": "text"
      },
      "source": [
        ""
      ]
    }
  ]
}