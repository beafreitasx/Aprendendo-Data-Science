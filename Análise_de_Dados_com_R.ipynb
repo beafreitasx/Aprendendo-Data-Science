{
  "nbformat": 4,
  "nbformat_minor": 0,
  "metadata": {
    "colab": {
      "name": "Análise de Dados com R.ipynb",
      "provenance": [],
      "authorship_tag": "ABX9TyM4MczRfKiNNZQmFPvdaRLW",
      "include_colab_link": true
    },
    "kernelspec": {
      "name": "ir",
      "display_name": "R"
    }
  },
  "cells": [
    {
      "cell_type": "markdown",
      "metadata": {
        "id": "view-in-github",
        "colab_type": "text"
      },
      "source": [
        "<a href=\"https://colab.research.google.com/github/beafreitasx/Aprendendo-Data-Science/blob/master/An%C3%A1lise_de_Dados_com_R.ipynb\" target=\"_parent\"><img src=\"https://colab.research.google.com/assets/colab-badge.svg\" alt=\"Open In Colab\"/></a>"
      ]
    },
    {
      "cell_type": "markdown",
      "metadata": {
        "id": "KLA_2oTUlHN0",
        "colab_type": "text"
      },
      "source": [
        "# Módulo 2"
      ]
    },
    {
      "cell_type": "markdown",
      "metadata": {
        "id": "IuReHW5f41S1",
        "colab_type": "text"
      },
      "source": [
        "##RSTUDIO##"
      ]
    },
    {
      "cell_type": "markdown",
      "metadata": {
        "id": "ZzAZGyyqlRLu",
        "colab_type": "text"
      },
      "source": [
        "comentando o código"
      ]
    },
    {
      "cell_type": "code",
      "metadata": {
        "id": "gY7YOMQfkgIa",
        "colab_type": "code",
        "colab": {}
      },
      "source": [
        "#isto é um comentário"
      ],
      "execution_count": null,
      "outputs": []
    },
    {
      "cell_type": "markdown",
      "metadata": {
        "id": "Fh7nUQarlfDn",
        "colab_type": "text"
      },
      "source": [
        "Comando para saber a função da documentação"
      ]
    },
    {
      "cell_type": "code",
      "metadata": {
        "id": "2MwJlR7qlh4y",
        "colab_type": "code",
        "colab": {}
      },
      "source": [
        "?print"
      ],
      "execution_count": null,
      "outputs": []
    },
    {
      "cell_type": "markdown",
      "metadata": {
        "id": "D1A_zVnZlzHA",
        "colab_type": "text"
      },
      "source": [
        "Instalando pacotes"
      ]
    },
    {
      "cell_type": "code",
      "metadata": {
        "id": "mV4Wxf20l2R_",
        "colab_type": "code",
        "colab": {}
      },
      "source": [
        "#instalar\n",
        "install.packages(\"ggplot2\")\n",
        "#carregar pacote\n",
        "library(ggplot2)"
      ],
      "execution_count": null,
      "outputs": []
    },
    {
      "cell_type": "markdown",
      "metadata": {
        "id": "Atk3UJChmmjg",
        "colab_type": "text"
      },
      "source": [
        " Estrutura de dados: vetor (Armazena um conjunto de valores ordenados chamados de elementos. Todos os elementos de um vetor devem ser do mesmo tipo)."
      ]
    },
    {
      "cell_type": "code",
      "metadata": {
        "id": "RNwcXKgxnfdZ",
        "colab_type": "code",
        "colab": {
          "base_uri": "https://localhost:8080/",
          "height": 153
        },
        "outputId": "a3bc137b-5c4a-440b-a599-0aa8791d7121"
      },
      "source": [
        "#vetores\n",
        "cidade <- c(\"Brasília\",\n",
        "            \"São Paulo\",\n",
        "            \"Rio de Janeiro\",\n",
        "            \"Porto Alegre\")\n",
        "\n",
        "cidade\n",
        "\n",
        "temperatura <- c(32, 22, 35, 17)\n",
        "\n",
        "região <- c(1,2, 2, 3)\n",
        "\n",
        "#acessando o primeiro elemento\n",
        "cidade [1]\n",
        "\n",
        "#acessando um intervalo de elementos (1 a 3)\n",
        "temperatura [1:3]\n",
        "\n",
        "#copiando um vetor\n",
        "cidade2 <- cidade\n",
        "cidade2\n",
        "\n",
        "#Excluindo o segundo elemento da consulta\n",
        "temperatura [-2]\n",
        "\n",
        "#alterando um elemento\n",
        "cidade [3] <- \"Belo Horizonte\"\n",
        "cidade\n",
        "\n",
        "#adicionar um novo elemento\n",
        "cidade [5] <- \"Salvador\"\n",
        "cidade \n",
        "\n",
        "região [5] <- \"4\"\n",
        "região\n",
        "\n",
        "#excluindo um vetor\n",
        "# cidade <- NULL\n"
      ],
      "execution_count": null,
      "outputs": [
        {
          "output_type": "display_data",
          "data": {
            "text/plain": [
              "[1] \"Brasília\"       \"São Paulo\"      \"Rio de Janeiro\" \"Porto Alegre\"  "
            ],
            "text/latex": "\\begin{enumerate*}\n\\item 'Brasília'\n\\item 'São Paulo'\n\\item 'Rio de Janeiro'\n\\item 'Porto Alegre'\n\\end{enumerate*}\n",
            "text/markdown": "1. 'Brasília'\n2. 'São Paulo'\n3. 'Rio de Janeiro'\n4. 'Porto Alegre'\n\n\n",
            "text/html": [
              "<style>\n",
              ".list-inline {list-style: none; margin:0; padding: 0}\n",
              ".list-inline>li {display: inline-block}\n",
              ".list-inline>li:not(:last-child)::after {content: \"\\00b7\"; padding: 0 .5ex}\n",
              "</style>\n",
              "<ol class=list-inline><li>'Brasília'</li><li>'São Paulo'</li><li>'Rio de Janeiro'</li><li>'Porto Alegre'</li></ol>\n"
            ]
          },
          "metadata": {
            "tags": []
          }
        },
        {
          "output_type": "display_data",
          "data": {
            "text/plain": [
              "[1] \"Brasília\""
            ],
            "text/latex": "'Brasília'",
            "text/markdown": "'Brasília'",
            "text/html": [
              "'Brasília'"
            ]
          },
          "metadata": {
            "tags": []
          }
        },
        {
          "output_type": "display_data",
          "data": {
            "text/plain": [
              "[1] 32 22 35"
            ],
            "text/latex": "\\begin{enumerate*}\n\\item 32\n\\item 22\n\\item 35\n\\end{enumerate*}\n",
            "text/markdown": "1. 32\n2. 22\n3. 35\n\n\n",
            "text/html": [
              "<style>\n",
              ".list-inline {list-style: none; margin:0; padding: 0}\n",
              ".list-inline>li {display: inline-block}\n",
              ".list-inline>li:not(:last-child)::after {content: \"\\00b7\"; padding: 0 .5ex}\n",
              "</style>\n",
              "<ol class=list-inline><li>32</li><li>22</li><li>35</li></ol>\n"
            ]
          },
          "metadata": {
            "tags": []
          }
        },
        {
          "output_type": "display_data",
          "data": {
            "text/plain": [
              "[1] \"Brasília\"       \"São Paulo\"      \"Rio de Janeiro\" \"Porto Alegre\"  "
            ],
            "text/latex": "\\begin{enumerate*}\n\\item 'Brasília'\n\\item 'São Paulo'\n\\item 'Rio de Janeiro'\n\\item 'Porto Alegre'\n\\end{enumerate*}\n",
            "text/markdown": "1. 'Brasília'\n2. 'São Paulo'\n3. 'Rio de Janeiro'\n4. 'Porto Alegre'\n\n\n",
            "text/html": [
              "<style>\n",
              ".list-inline {list-style: none; margin:0; padding: 0}\n",
              ".list-inline>li {display: inline-block}\n",
              ".list-inline>li:not(:last-child)::after {content: \"\\00b7\"; padding: 0 .5ex}\n",
              "</style>\n",
              "<ol class=list-inline><li>'Brasília'</li><li>'São Paulo'</li><li>'Rio de Janeiro'</li><li>'Porto Alegre'</li></ol>\n"
            ]
          },
          "metadata": {
            "tags": []
          }
        },
        {
          "output_type": "display_data",
          "data": {
            "text/plain": [
              "[1] 32 35 17"
            ],
            "text/latex": "\\begin{enumerate*}\n\\item 32\n\\item 35\n\\item 17\n\\end{enumerate*}\n",
            "text/markdown": "1. 32\n2. 35\n3. 17\n\n\n",
            "text/html": [
              "<style>\n",
              ".list-inline {list-style: none; margin:0; padding: 0}\n",
              ".list-inline>li {display: inline-block}\n",
              ".list-inline>li:not(:last-child)::after {content: \"\\00b7\"; padding: 0 .5ex}\n",
              "</style>\n",
              "<ol class=list-inline><li>32</li><li>35</li><li>17</li></ol>\n"
            ]
          },
          "metadata": {
            "tags": []
          }
        },
        {
          "output_type": "display_data",
          "data": {
            "text/plain": [
              "[1] \"Brasília\"       \"São Paulo\"      \"Belo Horizonte\" \"Porto Alegre\"  "
            ],
            "text/latex": "\\begin{enumerate*}\n\\item 'Brasília'\n\\item 'São Paulo'\n\\item 'Belo Horizonte'\n\\item 'Porto Alegre'\n\\end{enumerate*}\n",
            "text/markdown": "1. 'Brasília'\n2. 'São Paulo'\n3. 'Belo Horizonte'\n4. 'Porto Alegre'\n\n\n",
            "text/html": [
              "<style>\n",
              ".list-inline {list-style: none; margin:0; padding: 0}\n",
              ".list-inline>li {display: inline-block}\n",
              ".list-inline>li:not(:last-child)::after {content: \"\\00b7\"; padding: 0 .5ex}\n",
              "</style>\n",
              "<ol class=list-inline><li>'Brasília'</li><li>'São Paulo'</li><li>'Belo Horizonte'</li><li>'Porto Alegre'</li></ol>\n"
            ]
          },
          "metadata": {
            "tags": []
          }
        },
        {
          "output_type": "display_data",
          "data": {
            "text/plain": [
              "[1] \"Brasília\"       \"São Paulo\"      \"Belo Horizonte\" \"Porto Alegre\"  \n",
              "[5] \"Salvador\"      "
            ],
            "text/latex": "\\begin{enumerate*}\n\\item 'Brasília'\n\\item 'São Paulo'\n\\item 'Belo Horizonte'\n\\item 'Porto Alegre'\n\\item 'Salvador'\n\\end{enumerate*}\n",
            "text/markdown": "1. 'Brasília'\n2. 'São Paulo'\n3. 'Belo Horizonte'\n4. 'Porto Alegre'\n5. 'Salvador'\n\n\n",
            "text/html": [
              "<style>\n",
              ".list-inline {list-style: none; margin:0; padding: 0}\n",
              ".list-inline>li {display: inline-block}\n",
              ".list-inline>li:not(:last-child)::after {content: \"\\00b7\"; padding: 0 .5ex}\n",
              "</style>\n",
              "<ol class=list-inline><li>'Brasília'</li><li>'São Paulo'</li><li>'Belo Horizonte'</li><li>'Porto Alegre'</li><li>'Salvador'</li></ol>\n"
            ]
          },
          "metadata": {
            "tags": []
          }
        },
        {
          "output_type": "display_data",
          "data": {
            "text/plain": [
              "[1] \"1\" \"2\" \"2\" \"3\" \"4\""
            ],
            "text/latex": "\\begin{enumerate*}\n\\item '1'\n\\item '2'\n\\item '2'\n\\item '3'\n\\item '4'\n\\end{enumerate*}\n",
            "text/markdown": "1. '1'\n2. '2'\n3. '2'\n4. '3'\n5. '4'\n\n\n",
            "text/html": [
              "<style>\n",
              ".list-inline {list-style: none; margin:0; padding: 0}\n",
              ".list-inline>li {display: inline-block}\n",
              ".list-inline>li:not(:last-child)::after {content: \"\\00b7\"; padding: 0 .5ex}\n",
              "</style>\n",
              "<ol class=list-inline><li>'1'</li><li>'2'</li><li>'2'</li><li>'3'</li><li>'4'</li></ol>\n"
            ]
          },
          "metadata": {
            "tags": []
          }
        }
      ]
    },
    {
      "cell_type": "markdown",
      "metadata": {
        "id": "Z8OXsUkbwIkI",
        "colab_type": "text"
      },
      "source": [
        "Estrutura de dados: Fator (Armazena valores categóricos (nominal ou ordinal)"
      ]
    },
    {
      "cell_type": "code",
      "metadata": {
        "id": "OGSvzkf00lMJ",
        "colab_type": "code",
        "colab": {}
      },
      "source": [
        "#Fator\n",
        "\n",
        "UF <- factor (c(\"DF\", \"SP\", \"RJ\", \"RS\"))\n",
        "UF\n",
        "\n",
        "grau.instrucao <- factor (c(\"Nível Médio\", \n",
        "                            \"Superior\", \n",
        "                            \"Nível Médio\", \n",
        "                            \"Fundamental\"))\n",
        "                levels = c(\"Fundamental\",\n",
        "                            \"Nível Médio\",\n",
        "                            \"Superior\")\n",
        "                ordered = TRUE\n",
        "\n",
        "grau.instrucao\n"
      ],
      "execution_count": null,
      "outputs": []
    },
    {
      "cell_type": "markdown",
      "metadata": {
        "id": "e1vQGeSe3ohY",
        "colab_type": "text"
      },
      "source": [
        "Estrutura de dados:  lista (tipo especial de vetor)"
      ]
    },
    {
      "cell_type": "code",
      "metadata": {
        "id": "M8IqMpgP39JE",
        "colab_type": "code",
        "colab": {}
      },
      "source": [
        "pessoas <- list(sexo = \"M\", cidade = \"Brasília\", idade = 20)\n",
        "\n",
        "pessoas\n",
        "\n",
        "#acessar o primeiro elemento da lista\n",
        "pessoas[1]\n",
        "\n",
        "#acessar o valor do primeiro elemento da lista\n",
        "pessoas[[1]]\n",
        "\n",
        "#editando a lista\n",
        "pessoas[[\"idade\"]] <- 22\n",
        "pessoas\n",
        "\n",
        "#deletando um elemento da lista\n",
        "pessoas[[\"idade\"]] <- NULL\n",
        "pessoas\n",
        "\n",
        "#filtrando elementos de uma lista\n",
        "pessoas[c(\"cidade\", \"sexo\")]\n",
        "\n",
        "#listas de listas\n",
        "cidade <- list(cidade = cidade, temperatura = temperatura, região = região)\n",
        "cidade"
      ],
      "execution_count": null,
      "outputs": []
    },
    {
      "cell_type": "markdown",
      "metadata": {
        "id": "mQzxDHYb8v-9",
        "colab_type": "text"
      },
      "source": [
        "Estrutura de dados: Data Frame (organizar elementos em linhas e colunas, semelhante a uma planilha)"
      ]
    },
    {
      "cell_type": "code",
      "metadata": {
        "id": "8csaWr7m9QcB",
        "colab_type": "code",
        "colab": {}
      },
      "source": [
        "#Data Frame\n",
        "#criando um dataframe com vetores\n",
        "\n",
        "df <- data.frame(cidade, região)\n",
        "df\n",
        "\n",
        "#criando um dataframe com listas\n",
        "df2 <- data.frame(cidade)\n",
        "df2\n",
        "\n",
        "#filtrando valores do dataframe\n",
        "#recuperando valor da linha 1, coluna 2\n",
        "df[1, 2]\n",
        "\n",
        "#todas as linhas da primeira coluna \n",
        "df[, 1]\n",
        "\n",
        "#primeira linha e todas as colunas\n",
        "df[1,]\n",
        "\n",
        "#selecionar as 3 primeiras linhas\n",
        "#da primeira e da ultima coluna\n",
        "df[c(1:3), c(1,2)]\n",
        "\n",
        "#verificando o nome das colunas\n",
        "names(df)\n",
        "\n",
        "#verificando o número de linhas x colunas\n",
        "\n",
        "dim(df)\n",
        "\n",
        "#verificando os tipos de dados\n",
        "str(df)\n",
        "\n",
        "#acessar uma coluna do dataframe\n",
        "df$cidade"
      ],
      "execution_count": null,
      "outputs": []
    },
    {
      "cell_type": "markdown",
      "metadata": {
        "id": "HBiMTECsHjee",
        "colab_type": "text"
      },
      "source": [
        "Estrutura de dados: Matriz (Armazena dados tabulares semelhante ao data frame, porém só aceita um tipo de dado)."
      ]
    },
    {
      "cell_type": "code",
      "metadata": {
        "id": "ry2gv-oHHzzT",
        "colab_type": "code",
        "colab": {
          "base_uri": "https://localhost:8080/",
          "height": 184
        },
        "outputId": "143aa292-058b-490b-fdc4-9c8886901529"
      },
      "source": [
        "#Matriz\n",
        "\n",
        "m <- matrix(seq (1:9), nrow = 3)\n",
        "m\n",
        "\n",
        "m2 <- matrix(seq (1:25), \n",
        "            ncol = 5, \n",
        "            byrow = TRUE, \n",
        "            dimnames = list(c(seq (1:5)),\n",
        "                            c('a', 'b', 'c', 'd', 'e')))\n",
        "\n"
      ],
      "execution_count": null,
      "outputs": [
        {
          "output_type": "display_data",
          "data": {
            "text/plain": [
              "     [,1] [,2] [,3]\n",
              "[1,] 1    4    7   \n",
              "[2,] 2    5    8   \n",
              "[3,] 3    6    9   "
            ],
            "text/latex": "A matrix: 3 × 3 of type int\n\\begin{tabular}{lll}\n\t 1 & 4 & 7\\\\\n\t 2 & 5 & 8\\\\\n\t 3 & 6 & 9\\\\\n\\end{tabular}\n",
            "text/markdown": "\nA matrix: 3 × 3 of type int\n\n| 1 | 4 | 7 |\n| 2 | 5 | 8 |\n| 3 | 6 | 9 |\n\n",
            "text/html": [
              "<table>\n",
              "<caption>A matrix: 3 × 3 of type int</caption>\n",
              "<tbody>\n",
              "\t<tr><td>1</td><td>4</td><td>7</td></tr>\n",
              "\t<tr><td>2</td><td>5</td><td>8</td></tr>\n",
              "\t<tr><td>3</td><td>6</td><td>9</td></tr>\n",
              "</tbody>\n",
              "</table>\n"
            ]
          },
          "metadata": {
            "tags": []
          }
        }
      ]
    },
    {
      "cell_type": "markdown",
      "metadata": {
        "id": "lyfYNJHLWzNW",
        "colab_type": "text"
      },
      "source": [
        "**Estrutura de Repetição:** For() é utilizada para acessar cada elemento de uma sequência (vetor, coluna de matriz ou data frame matriz)."
      ]
    },
    {
      "cell_type": "code",
      "metadata": {
        "id": "ILgwp_kCXA6A",
        "colab_type": "code",
        "colab": {}
      },
      "source": [
        "#for\n",
        "#for(valor in sequencia){\n",
        "#    código}\n",
        "\n",
        "for (i in seq(12)){\n",
        "  print(i)}"
      ],
      "execution_count": null,
      "outputs": []
    },
    {
      "cell_type": "markdown",
      "metadata": {
        "id": "J1gnpQoIYq5C",
        "colab_type": "text"
      },
      "source": [
        "Estrutura de Repetição: While() é utilizada para repetir uma operação por um determinado número de vezes."
      ]
    },
    {
      "cell_type": "code",
      "metadata": {
        "id": "a1LqurWlY9gy",
        "colab_type": "code",
        "colab": {
          "base_uri": "https://localhost:8080/",
          "height": 204
        },
        "outputId": "f7fa90dd-9dda-4ab6-b9b0-6b400dd2d3b0"
      },
      "source": [
        "#While\n",
        "# while(condição){\n",
        "#       código}\n",
        "\n",
        "i <- 0\n",
        "while (i <= 10){\n",
        "  print(i)\n",
        "  i = i+1\n",
        "}"
      ],
      "execution_count": 3,
      "outputs": [
        {
          "output_type": "stream",
          "text": [
            "[1] 0\n",
            "[1] 1\n",
            "[1] 2\n",
            "[1] 3\n",
            "[1] 4\n",
            "[1] 5\n",
            "[1] 6\n",
            "[1] 7\n",
            "[1] 8\n",
            "[1] 9\n",
            "[1] 10\n"
          ],
          "name": "stdout"
        }
      ]
    },
    {
      "cell_type": "markdown",
      "metadata": {
        "id": "4msKhrZSZ4lw",
        "colab_type": "text"
      },
      "source": [
        "Controle de fluxo: if() executa parte de um código somente se uma condição for exercida, afim de testar consdições e controlar o fluxo do script"
      ]
    },
    {
      "cell_type": "code",
      "metadata": {
        "id": "ckFQGAFJaOvt",
        "colab_type": "code",
        "colab": {
          "base_uri": "https://localhost:8080/",
          "height": 34
        },
        "outputId": "06b44069-1069-44ef-8043-b1d19d1c22ad"
      },
      "source": [
        "#controle de fluxo\n",
        "# if(condição){\n",
        "#  código}\n",
        "\n",
        "x = 70\n",
        "if (x>0){\n",
        "  print(\"número positivo\")\n",
        "}"
      ],
      "execution_count": 6,
      "outputs": [
        {
          "output_type": "stream",
          "text": [
            "[1] \"número positivo\"\n"
          ],
          "name": "stdout"
        }
      ]
    },
    {
      "cell_type": "markdown",
      "metadata": {
        "id": "HADI6BBya8hO",
        "colab_type": "text"
      },
      "source": [
        "Controle de fluxo: else if() "
      ]
    },
    {
      "cell_type": "code",
      "metadata": {
        "id": "JjuZ7HBebDpG",
        "colab_type": "code",
        "colab": {
          "base_uri": "https://localhost:8080/",
          "height": 34
        },
        "outputId": "f85f0016-ccb5-404b-e894-5b08e7c1934c"
      },
      "source": [
        "nota = 1\n",
        "if (nota >= 7){              #condição\n",
        "  print(\"Aprovado\")\n",
        " } else if (nota > 5 && nota < 7){ #\"mas se\"\n",
        "   print(\"Recuperação\")\n",
        " } else {                    #usado quando nenhuma condição é atendida\n",
        "   print (\"Reprovado\")\n",
        " }\n"
      ],
      "execution_count": 10,
      "outputs": [
        {
          "output_type": "stream",
          "text": [
            "[1] \"Reprovado\"\n"
          ],
          "name": "stdout"
        }
      ]
    },
    {
      "cell_type": "markdown",
      "metadata": {
        "id": "bCbggzM2cZ7i",
        "colab_type": "text"
      },
      "source": [
        "Criar funções "
      ]
    },
    {
      "cell_type": "code",
      "metadata": {
        "id": "Eamd9QTgckUV",
        "colab_type": "code",
        "colab": {}
      },
      "source": [
        "#Criar funções"
      ],
      "execution_count": null,
      "outputs": []
    }
  ]
}